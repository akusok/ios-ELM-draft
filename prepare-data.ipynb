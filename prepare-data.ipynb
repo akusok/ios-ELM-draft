{
 "cells": [
  {
   "cell_type": "code",
   "execution_count": 1,
   "id": "a7806470-98ad-4835-8424-39e0dcbbb7f9",
   "metadata": {},
   "outputs": [],
   "source": [
    "import numpy as np"
   ]
  },
  {
   "cell_type": "code",
   "execution_count": null,
   "id": "3fc2ba23-f63d-482e-9db9-ef34836a2c06",
   "metadata": {},
   "outputs": [],
   "source": []
  },
  {
   "cell_type": "code",
   "execution_count": 21,
   "id": "7b219b7f-5ab4-498f-b189-2b913d14da56",
   "metadata": {},
   "outputs": [
    {
     "data": {
      "text/plain": [
       "((1024,), dtype('float32'))"
      ]
     },
     "execution_count": 21,
     "metadata": {},
     "output_type": "execute_result"
    }
   ],
   "source": [
    "b0 = np.load(\"./data - load contents to app files on device/bias_0.npy\")\n",
    "b0.shape, b0.dtype"
   ]
  },
  {
   "cell_type": "code",
   "execution_count": 22,
   "id": "48aa9fb0-0a1f-4cc3-9179-6c038118dcda",
   "metadata": {},
   "outputs": [
    {
     "data": {
      "text/plain": [
       "((10, 1024), dtype('float32'))"
      ]
     },
     "execution_count": 22,
     "metadata": {},
     "output_type": "execute_result"
    }
   ],
   "source": [
    "w0 = np.load(\"./data - load contents to app files on device/w_0.npy\")\n",
    "w0.shape, w0.dtype"
   ]
  },
  {
   "cell_type": "code",
   "execution_count": 26,
   "id": "93e389c2-f751-41d9-b133-877151f8bc47",
   "metadata": {},
   "outputs": [
    {
     "data": {
      "text/plain": [
       "(0.29032913,\n",
       " array([0.9972796, 0.9997102, 1.0078855, 1.0134952, 0.971986 , 0.9799723,\n",
       "        0.9816766, 0.9781786, 0.998282 , 1.0281541], dtype=float32))"
      ]
     },
     "execution_count": 26,
     "metadata": {},
     "output_type": "execute_result"
    }
   ],
   "source": [
    "b0.std(), w0.std(1)"
   ]
  },
  {
   "cell_type": "code",
   "execution_count": 12,
   "id": "ab2c7559-5a3a-4c67-b0ca-ec856aefbfe8",
   "metadata": {},
   "outputs": [
    {
     "data": {
      "text/plain": [
       "((4177, 10), dtype('float32'))"
      ]
     },
     "execution_count": 12,
     "metadata": {},
     "output_type": "execute_result"
    }
   ],
   "source": [
    "x = np.load(\"./data - load contents to app files on device/x.npy\")\n",
    "x.shape, x.dtype"
   ]
  },
  {
   "cell_type": "code",
   "execution_count": 13,
   "id": "25972dc2-d8d5-4c40-8067-18fc8e08db65",
   "metadata": {},
   "outputs": [
    {
     "data": {
      "text/plain": [
       "((10, 10), dtype('float32'))"
      ]
     },
     "execution_count": 13,
     "metadata": {},
     "output_type": "execute_result"
    }
   ],
   "source": [
    "xs = np.load(\"./data - load contents to app files on device/xs.npy\")\n",
    "xs.shape, xs.dtype"
   ]
  },
  {
   "cell_type": "code",
   "execution_count": 14,
   "id": "b382c350-7e55-4539-bc36-8c6fe97070b0",
   "metadata": {},
   "outputs": [
    {
     "data": {
      "text/plain": [
       "((4177, 3), dtype('float32'))"
      ]
     },
     "execution_count": 14,
     "metadata": {},
     "output_type": "execute_result"
    }
   ],
   "source": [
    "y = np.load(\"./data - load contents to app files on device/y.npy\")\n",
    "y.shape, y.dtype"
   ]
  },
  {
   "cell_type": "code",
   "execution_count": null,
   "id": "d6d45191-ad7f-4919-acc9-5055e8c9e28e",
   "metadata": {},
   "outputs": [],
   "source": []
  }
 ],
 "metadata": {
  "kernelspec": {
   "display_name": "Python 3 (ipykernel)",
   "language": "python",
   "name": "python3"
  },
  "language_info": {
   "codemirror_mode": {
    "name": "ipython",
    "version": 3
   },
   "file_extension": ".py",
   "mimetype": "text/x-python",
   "name": "python",
   "nbconvert_exporter": "python",
   "pygments_lexer": "ipython3",
   "version": "3.11.5"
  }
 },
 "nbformat": 4,
 "nbformat_minor": 5
}
